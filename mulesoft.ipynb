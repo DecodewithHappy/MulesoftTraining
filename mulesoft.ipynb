{
 "cells": [
  {
   "cell_type": "code",
   "execution_count": 16,
   "metadata": {},
   "outputs": [],
   "source": [
    "import sqlite3\n",
    "con = sqlite3.connect('Moviesdb.db')"
   ]
  },
  {
   "cell_type": "code",
   "execution_count": 17,
   "metadata": {},
   "outputs": [
    {
     "data": {
      "text/plain": [
       "<sqlite3.Cursor at 0x17e72c2fa40>"
      ]
     },
     "execution_count": 17,
     "metadata": {},
     "output_type": "execute_result"
    }
   ],
   "source": [
    "cur = con.cursor()\n",
    "\n",
    "# Create table\n",
    "cur.execute('''CREATE TABLE MOVIE\n",
    "               (MName text, LActor text, LActress text, DName text, YOR text)''')\n"
   ]
  },
  {
   "cell_type": "code",
   "execution_count": 18,
   "metadata": {},
   "outputs": [],
   "source": [
    "# Insert a row of data\n",
    "cur.execute(\"INSERT INTO MOVIE VALUES ('ABCD DANCE','Surya','Madhumita', 'Saif', '2022')\")\n",
    "cur.execute(\"INSERT INTO MOVIE VALUES('ABCD DANCE2','Koustav', 'Rani', 'Saif', '2023')\")\n",
    "cur.execute(\"INSERT INTO MOVIE VALUES('ABCD DANCE3','Sourav', 'Ranu', 'Sayan', '2024')\")\n",
    "cur.execute(\"INSERT INTO MOVIE VALUES('ABCD DANCE4','Raju', 'Sohini', 'Saif', '2025')\")\n",
    "cur.execute(\"INSERT INTO MOVIE VALUES('ABCD DANCE5','Shyam', 'Renu', 'Sayan', '2026')\")\n",
    "\n",
    "# Save (commit) the changes\n",
    "con.commit()"
   ]
  },
  {
   "cell_type": "code",
   "execution_count": 19,
   "metadata": {},
   "outputs": [],
   "source": [
    "#cur.execute(\"SELECT * FROM MOVIE\")"
   ]
  },
  {
   "cell_type": "code",
   "execution_count": 20,
   "metadata": {},
   "outputs": [],
   "source": [
    "#print(cur.fetchall())"
   ]
  },
  {
   "cell_type": "code",
   "execution_count": 21,
   "metadata": {},
   "outputs": [
    {
     "name": "stdout",
     "output_type": "stream",
     "text": [
      "('ABCD DANCE', 'Surya', 'Madhumita', 'Saif', '2022')\n",
      "('ABCD DANCE2', 'Koustav', 'Rani', 'Saif', '2023')\n",
      "('ABCD DANCE3', 'Sourav', 'Ranu', 'Sayan', '2024')\n",
      "('ABCD DANCE4', 'Raju', 'Sohini', 'Saif', '2025')\n",
      "('ABCD DANCE5', 'Shyam', 'Renu', 'Sayan', '2026')\n"
     ]
    }
   ],
   "source": [
    "for row in cur.execute('SELECT * FROM MOVIE'):\n",
    "        print(row)"
   ]
  },
  {
   "cell_type": "code",
   "execution_count": 22,
   "metadata": {},
   "outputs": [
    {
     "name": "stdout",
     "output_type": "stream",
     "text": [
      "[('ABCD DANCE', 'Surya', 'Madhumita', 'Saif', '2022')]\n"
     ]
    }
   ],
   "source": [
    "cur.execute(\"SELECT * FROM MOVIE WHERE LActor = 'Surya'\")\n",
    "print(cur.fetchall())"
   ]
  }
 ],
 "metadata": {
  "interpreter": {
   "hash": "8ad901ce62f1419bc6a319ef3aef13f4636920bf70484de08570962413f6845e"
  },
  "kernelspec": {
   "display_name": "Python 3.10.1 64-bit",
   "language": "python",
   "name": "python3"
  },
  "language_info": {
   "codemirror_mode": {
    "name": "ipython",
    "version": 3
   },
   "file_extension": ".py",
   "mimetype": "text/x-python",
   "name": "python",
   "nbconvert_exporter": "python",
   "pygments_lexer": "ipython3",
   "version": "3.10.1"
  },
  "orig_nbformat": 4
 },
 "nbformat": 4,
 "nbformat_minor": 2
}
